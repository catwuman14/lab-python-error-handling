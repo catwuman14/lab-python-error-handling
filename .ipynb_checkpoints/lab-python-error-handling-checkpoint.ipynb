{
 "cells": [
  {
   "cell_type": "markdown",
   "id": "25d7736c-ba17-4aff-b6bb-66eba20fbf4e",
   "metadata": {},
   "source": [
    "# Lab | Error Handling"
   ]
  },
  {
   "cell_type": "markdown",
   "id": "bc99b386-7508-47a0-bcdb-d969deaf6c8b",
   "metadata": {},
   "source": [
    "## Exercise: Error Handling for Managing Customer Orders\n",
    "\n",
    "The implementation of your code for managing customer orders assumes that the user will always enter a valid input. \n",
    "\n",
    "For example, we could modify the `initialize_inventory` function to include error handling.\n",
    "   - If the user enters an invalid quantity (e.g., a negative value or a non-numeric value), display an error message and ask them to re-enter the quantity for that product.\n",
    "   - Use a try-except block to handle the error and continue prompting the user until a valid quantity is entered.\n",
    "\n",
    "```python\n",
    "# Step 1: Define the function for initializing the inventory with error handling\n",
    "def initialize_inventory(products):\n",
    "    inventory = {}\n",
    "    for product in products:\n",
    "        valid_quantity = False\n",
    "        while not valid_quantity:\n",
    "            try:\n",
    "                quantity = int(input(f\"Enter the quantity of {product}s available: \"))\n",
    "                if quantity < 0:\n",
    "                    raise ValueError(\"Invalid quantity! Please enter a non-negative value.\")\n",
    "                valid_quantity = True\n",
    "            except ValueError as error:\n",
    "                print(f\"Error: {error}\")\n",
    "        inventory[product] = quantity\n",
    "    return inventory\n",
    "\n",
    "# Or, in another way:\n",
    "\n",
    "def initialize_inventory(products):\n",
    "    inventory = {}\n",
    "    for product in products:\n",
    "        valid_input = False\n",
    "        while not valid_input:\n",
    "            try:\n",
    "                quantity = int(input(f\"Enter the quantity of {product}s available: \"))\n",
    "                if quantity >= 0:\n",
    "                    inventory[product] = quantity\n",
    "                    valid_input = True\n",
    "                else:\n",
    "                    print(\"Quantity cannot be negative. Please enter a valid quantity.\")\n",
    "            except ValueError:\n",
    "                print(\"Invalid input. Please enter a valid quantity.\")\n",
    "    return inventory\n",
    "```\n",
    "\n",
    "Let's enhance your code by implementing error handling to handle invalid inputs.\n",
    "\n",
    "Follow the steps below to complete the exercise:\n",
    "\n",
    "2. Modify the `get_customer_orders` function to include error handling.\n",
    "   - If the user enters an invalid number of orders (e.g., a negative value or a non-numeric value), display an error message and ask them to re-enter the number of orders.\n",
    "   - If the user enters an invalid product name (e.g., a product name that is not in the inventory), or that doesn't have stock available, display an error message and ask them to re-enter the product name. *Hint: you will need to pass inventory as a parameter*\n",
    "   - Use a try-except block to handle the error and continue prompting the user until a valid product name is entered.\n",
    "     \n",
    "3. Modify the `calculate_total_price` function to include error handling.\n",
    "   - If the user enters an invalid price (e.g., a negative value or a non-numeric value), display an error message and ask them to re-enter the price for that product.\n",
    "   - Use a try-except block to handle the error and continue prompting the user until a valid price is entered.\n",
    "\n",
    "\n",
    "4. Test your code by running the program and deliberately entering invalid quantities and product names. Make sure the error handling mechanism works as expected.\n"
   ]
  },
  {
   "cell_type": "code",
   "execution_count": 11,
   "id": "07daa0bc-dd06-443f-a0a8-e49bbad7a856",
   "metadata": {},
   "outputs": [],
   "source": [
    "products = [\"t-shirt\", \"mug\", \"hat\", \"book\", \"keychain\"]"
   ]
  },
  {
   "cell_type": "code",
   "execution_count": 13,
   "id": "1f33e2aa-7eeb-49ce-9ad5-15f61b071b45",
   "metadata": {},
   "outputs": [],
   "source": [
    "# Step 1: Define the function for initializing the inventory with error handling\n",
    "def initialize_inventory(products):\n",
    "    inventory = {}\n",
    "    for product in products:\n",
    "        valid_quantity = False\n",
    "        while not valid_quantity:\n",
    "            try:\n",
    "                quantity = int(input(f\"Enter the quantity of {product}s available: \"))\n",
    "                if quantity < 0:\n",
    "                    raise ValueError(\"Invalid quantity! Please enter a non-negative value.\")\n",
    "                valid_quantity = True\n",
    "            except ValueError as error:\n",
    "                print(f\"Error: {error}\")\n",
    "        inventory[product] = quantity\n",
    "    return inventory\n"
   ]
  },
  {
   "cell_type": "code",
   "execution_count": 15,
   "id": "34ab2ce3-dc04-412a-9ac9-dc6a5fe6ae3f",
   "metadata": {},
   "outputs": [
    {
     "name": "stdin",
     "output_type": "stream",
     "text": [
      "Enter the quantity of t-shirts available:  g\n"
     ]
    },
    {
     "name": "stdout",
     "output_type": "stream",
     "text": [
      "Error: invalid literal for int() with base 10: 'g'\n"
     ]
    },
    {
     "name": "stdin",
     "output_type": "stream",
     "text": [
      "Enter the quantity of t-shirts available:  10\n",
      "Enter the quantity of mugs available:  9\n",
      "Enter the quantity of hats available:  8\n",
      "Enter the quantity of books available:  ~\n"
     ]
    },
    {
     "name": "stdout",
     "output_type": "stream",
     "text": [
      "Error: invalid literal for int() with base 10: '~'\n"
     ]
    },
    {
     "name": "stdin",
     "output_type": "stream",
     "text": [
      "Enter the quantity of books available:  7\n",
      "Enter the quantity of keychains available:  6\n"
     ]
    },
    {
     "data": {
      "text/plain": [
       "{'t-shirt': 10, 'mug': 9, 'hat': 8, 'book': 7, 'keychain': 6}"
      ]
     },
     "execution_count": 15,
     "metadata": {},
     "output_type": "execute_result"
    }
   ],
   "source": [
    "initialize_inventory(products)\n"
   ]
  },
  {
   "cell_type": "code",
   "execution_count": 35,
   "id": "0499e095-6276-4bd4-aab9-7cb9b3405718",
   "metadata": {},
   "outputs": [
    {
     "name": "stdin",
     "output_type": "stream",
     "text": [
      "Enter the quantity of t-shirts available:  0\n",
      "Enter the quantity of mugs available:  1\n",
      "Enter the quantity of hats available:  2\n",
      "Enter the quantity of books available:  3\n",
      "Enter the quantity of keychains available:  4\n"
     ]
    }
   ],
   "source": [
    "# Or, in another way:\n",
    "\n",
    "def initialize_inventory(products):\n",
    "    inventory = {}\n",
    "    for product in products:\n",
    "        valid_input = False\n",
    "        while not valid_input:\n",
    "            try:\n",
    "                quantity = int(input(f\"Enter the quantity of {product}s available: \"))\n",
    "                if quantity >= 0:\n",
    "                    inventory[product] = quantity\n",
    "                    valid_input = True\n",
    "                else:\n",
    "                    print(\"Quantity cannot be negative. Please enter a valid quantity.\")\n",
    "            except ValueError:\n",
    "                print(\"Invalid input. Please enter a valid quantity.\")\n",
    "    return inventory\n",
    "\n",
    "inventory = initialize_inventory(products)\n"
   ]
  },
  {
   "cell_type": "code",
   "execution_count": 45,
   "id": "c90cb9d8-7808-4239-aa3f-6902dc80b3e7",
   "metadata": {},
   "outputs": [],
   "source": [
    "def get_customer_orders(inventory):\n",
    "    customer_orders = set()\n",
    "    valid_order = False \n",
    "    while valid_order == False:\n",
    "        try:\n",
    "            order = int(input(\"Enter the number of customer orders:\"))\n",
    "            if order>0:\n",
    "                valid_order=True\n",
    "            else:\n",
    "                raise ValueError (\"Invalid quantity. Please enter a positive number.\")\n",
    "        except ValueError as x:\n",
    "            print(\"Error with the input\", x)\n",
    "    \n",
    "    \n",
    "    for i in range(order): \n",
    "        valid_name = False\n",
    "        while valid_name == False:\n",
    "            try:\n",
    "                name = input(\"Please enter the name of the product:\")\n",
    "                if name in inventory.keys() and inventory[name]>0:\n",
    "                    customer_orders.add(name)\n",
    "                    valid_name=True\n",
    "                elif name in inventory.keys() and inventory[name]<=0:\n",
    "                    raise ValueError (\"Inventory for this selected item is exhausted\")\n",
    "                else: \n",
    "                    raise ValueError (\"Inventory is not a selectable item in our inventory\")\n",
    "            except ValueError as y:\n",
    "                print(\"Error with the input\", y)\n",
    "    return customer_orders \n",
    "                    \n",
    "            "
   ]
  },
  {
   "cell_type": "code",
   "execution_count": 124,
   "id": "102eb6b1-d845-45c0-b83d-c37ff0192852",
   "metadata": {},
   "outputs": [
    {
     "name": "stdin",
     "output_type": "stream",
     "text": [
      "Enter the number of customer orders: 2\n",
      "Please enter the name of the product: hat\n",
      "Please enter the name of the product: book\n"
     ]
    }
   ],
   "source": [
    "orders = get_customer_orders(inventory)"
   ]
  },
  {
   "cell_type": "code",
   "execution_count": 131,
   "id": "494253a6-e5de-4fd6-8baf-206d80f142a8",
   "metadata": {},
   "outputs": [],
   "source": [
    "def calculate_total_price(order):\n",
    "    product_prices= dict()\n",
    "    total_price = set()\n",
    "    \n",
    "    for i in order:\n",
    "        valid_price = False\n",
    "        while valid_price==False:\n",
    "            try:\n",
    "                price = float(input(f\"Enter the price for {order}: $\"))\n",
    "                return \n",
    "                if price>0:\n",
    "                    valid_price = True \n",
    "                else:\n",
    "                    raise ValueError (\"Invalid price. Please enter a positive number.\")\n",
    "            except ValueError as error:\n",
    "                print(f\"Error: {error}\")"
   ]
  },
  {
   "cell_type": "code",
   "execution_count": null,
   "id": "a8b77c73-a85a-44d7-8622-a7505c52b554",
   "metadata": {},
   "outputs": [
    {
     "name": "stdin",
     "output_type": "stream",
     "text": [
      "Enter the price for {'book', 'hat'}: $ hot\n"
     ]
    },
    {
     "name": "stdout",
     "output_type": "stream",
     "text": [
      "Error: could not convert string to float: 'hot'\n"
     ]
    },
    {
     "name": "stdin",
     "output_type": "stream",
     "text": [
      "Enter the price for {'book', 'hat'}: $ hot\n"
     ]
    },
    {
     "name": "stdout",
     "output_type": "stream",
     "text": [
      "Error: could not convert string to float: 'hot'\n"
     ]
    }
   ],
   "source": [
    "calculate_total_price(order)"
   ]
  },
  {
   "cell_type": "code",
   "execution_count": null,
   "id": "77d6fec4-7759-4d0a-b9f8-267b540dbe55",
   "metadata": {},
   "outputs": [],
   "source": []
  }
 ],
 "metadata": {
  "kernelspec": {
   "display_name": "Python [conda env:base] *",
   "language": "python",
   "name": "conda-base-py"
  },
  "language_info": {
   "codemirror_mode": {
    "name": "ipython",
    "version": 3
   },
   "file_extension": ".py",
   "mimetype": "text/x-python",
   "name": "python",
   "nbconvert_exporter": "python",
   "pygments_lexer": "ipython3",
   "version": "3.12.7"
  }
 },
 "nbformat": 4,
 "nbformat_minor": 5
}
